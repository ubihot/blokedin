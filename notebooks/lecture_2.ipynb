{
 "cells": [
  {
   "cell_type": "markdown",
   "metadata": {},
   "source": [
    "Let's implement the maximum likelyhood estimate (MLE) on our corpus or something more complex like shakespeare text(maybe left as an exercise to the reader).\n",
    "\n",
    "\n",
    "TODO:\n",
    "- "
   ]
  },
  {
   "cell_type": "code",
   "execution_count": null,
   "metadata": {},
   "outputs": [],
   "source": [
    "def mle():\n",
    "  corpus_filepath = \"../datasets/messages_corpus.txt\"\n",
    "  counts = {}\n",
    "  with open(corpus_filepath, \"r\") as f:\n",
    "    lines = f.readlines()\n",
    "    for line in lines:\n",
    "      print(line)\n",
    "\n",
    "mle()"
   ]
  },
  {
   "cell_type": "markdown",
   "metadata": {},
   "source": [
    "let's implement the bigram model using our corpus. Instead of using words we'll use characters instead.\n",
    "\n",
    "\n",
    "Let's implement unigram, bigram, trigram and compute the **perplexity** and compare which one has lower perplexity.\n",
    "\n",
    "\n",
    "let's than **sample** from our 3 language models.\n",
    "\n",
    "We'll leave as an exercise to the reader to create a 4-gram model and sample from it and compute the perplexity.\n",
    "\n",
    "\n",
    "Implement Laplace Smoothing, stupid backoff and n-gram interpolation. Leave one of these as an exercise to the reader.\n",
    "\n"
   ]
  },
  {
   "cell_type": "code",
   "execution_count": null,
   "metadata": {},
   "outputs": [],
   "source": []
  }
 ],
 "metadata": {
  "kernelspec": {
   "display_name": ".venv",
   "language": "python",
   "name": "python3"
  },
  "language_info": {
   "codemirror_mode": {
    "name": "ipython",
    "version": 3
   },
   "file_extension": ".py",
   "mimetype": "text/x-python",
   "name": "python",
   "nbconvert_exporter": "python",
   "pygments_lexer": "ipython3",
   "version": "3.11.11"
  }
 },
 "nbformat": 4,
 "nbformat_minor": 2
}
