{
 "cells": [
  {
   "cell_type": "markdown",
   "id": "adb15225",
   "metadata": {},
   "source": [
    "One way we could do text categorization and specifically binary sentiment analysis classification (like positive or negative) is via keywords that express positive words vs other words that express negative words."
   ]
  },
  {
   "cell_type": "code",
   "execution_count": null,
   "id": "841cdc6b",
   "metadata": {},
   "outputs": [],
   "source": [
    "positive_words = [\"rich\", \"great\"]\n",
    "negative_words = [\"pathetic\", \"worse\"]"
   ]
  },
  {
   "cell_type": "markdown",
   "id": "aa5aabff",
   "metadata": {},
   "source": [
    "### Handwritten rules (I think that's how this is called)\n",
    "\n",
    "what is the problem with this approach?\n",
    "\n",
    "first words have various stemming e.g. rich can come also as richly or some other words can have other lemmas? other examples like worse -> worst...do we stemmatize?\n",
    "\n",
    "an ambigous word I think is `ridiculous`?\n",
    "\n",
    "secondly we could have cases were we have a positive word next to a negative word to emphasize the negative sentiment. How do we control that?\n"
   ]
  },
  {
   "cell_type": "code",
   "execution_count": null,
   "id": "cc04718c",
   "metadata": {},
   "outputs": [],
   "source": []
  }
 ],
 "metadata": {
  "language_info": {
   "name": "python"
  }
 },
 "nbformat": 4,
 "nbformat_minor": 5
}
